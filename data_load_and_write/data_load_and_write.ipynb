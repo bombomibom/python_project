{
 "cells": [
  {
   "cell_type": "code",
   "execution_count": 1,
   "id": "e130bec5-f2b6-4375-b43e-ff30372c52cb",
   "metadata": {},
   "outputs": [],
   "source": [
    "import pandas as pd \n",
    "from sqlalchemy import types\n",
    "from sqlalchemy import create_engine "
   ]
  },
  {
   "cell_type": "code",
   "execution_count": 2,
   "id": "c0e764b8-b8b1-4101-bd5d-4ddddf57e364",
   "metadata": {},
   "outputs": [],
   "source": [
    "ENCODING = \"ms949\"\n",
    "TARGETDATANAME = \"kopo_product_volume\"\n",
    "DBPREFIX=\"oracle+cx_oracle\" \n",
    "DBIP=\"127.0.0.1\"\n",
    "DBID=\"ST\"\n",
    "DBPW=\"ST\"\n",
    "DBPORT=\"1521\"\n",
    "DBNAME=\"XE\"\n",
    "VARCHARMAX = 100"
   ]
  },
  {
   "cell_type": "markdown",
   "id": "6e1b626d-fecd-4053-a95c-01df23e9d24a",
   "metadata": {
    "tags": []
   },
   "source": [
    "#### 2.3. 작업_데이터 불러오기"
   ]
  },
  {
   "cell_type": "code",
   "execution_count": 3,
   "id": "be6c0d9b-aaee-4fa0-8e06-2be7fe591183",
   "metadata": {},
   "outputs": [
    {
     "data": {
      "text/html": [
       "<div>\n",
       "<style scoped>\n",
       "    .dataframe tbody tr th:only-of-type {\n",
       "        vertical-align: middle;\n",
       "    }\n",
       "\n",
       "    .dataframe tbody tr th {\n",
       "        vertical-align: top;\n",
       "    }\n",
       "\n",
       "    .dataframe thead th {\n",
       "        text-align: right;\n",
       "    }\n",
       "</style>\n",
       "<table border=\"1\" class=\"dataframe\">\n",
       "  <thead>\n",
       "    <tr style=\"text-align: right;\">\n",
       "      <th></th>\n",
       "      <th>REGIONID</th>\n",
       "      <th>PRODUCTGROUP</th>\n",
       "      <th>YEARWEEK</th>\n",
       "      <th>VOLUME</th>\n",
       "    </tr>\n",
       "  </thead>\n",
       "  <tbody>\n",
       "    <tr>\n",
       "      <th>0</th>\n",
       "      <td>A01</td>\n",
       "      <td>ST0001</td>\n",
       "      <td>201415</td>\n",
       "      <td>810144</td>\n",
       "    </tr>\n",
       "    <tr>\n",
       "      <th>1</th>\n",
       "      <td>A01</td>\n",
       "      <td>ST0002</td>\n",
       "      <td>201415</td>\n",
       "      <td>128999</td>\n",
       "    </tr>\n",
       "    <tr>\n",
       "      <th>2</th>\n",
       "      <td>A01</td>\n",
       "      <td>ST0001</td>\n",
       "      <td>201418</td>\n",
       "      <td>671464</td>\n",
       "    </tr>\n",
       "    <tr>\n",
       "      <th>3</th>\n",
       "      <td>A01</td>\n",
       "      <td>ST0002</td>\n",
       "      <td>201418</td>\n",
       "      <td>134467</td>\n",
       "    </tr>\n",
       "    <tr>\n",
       "      <th>4</th>\n",
       "      <td>A01</td>\n",
       "      <td>ST0001</td>\n",
       "      <td>201413</td>\n",
       "      <td>470040</td>\n",
       "    </tr>\n",
       "    <tr>\n",
       "      <th>...</th>\n",
       "      <td>...</td>\n",
       "      <td>...</td>\n",
       "      <td>...</td>\n",
       "      <td>...</td>\n",
       "    </tr>\n",
       "    <tr>\n",
       "      <th>260</th>\n",
       "      <td>A01</td>\n",
       "      <td>ST0002</td>\n",
       "      <td>201614</td>\n",
       "      <td>148835</td>\n",
       "    </tr>\n",
       "    <tr>\n",
       "      <th>261</th>\n",
       "      <td>A01</td>\n",
       "      <td>ST0001</td>\n",
       "      <td>201641</td>\n",
       "      <td>746061</td>\n",
       "    </tr>\n",
       "    <tr>\n",
       "      <th>262</th>\n",
       "      <td>A01</td>\n",
       "      <td>ST0002</td>\n",
       "      <td>201412</td>\n",
       "      <td>151750</td>\n",
       "    </tr>\n",
       "    <tr>\n",
       "      <th>263</th>\n",
       "      <td>A01</td>\n",
       "      <td>ST0001</td>\n",
       "      <td>201420</td>\n",
       "      <td>645626</td>\n",
       "    </tr>\n",
       "    <tr>\n",
       "      <th>264</th>\n",
       "      <td>A01</td>\n",
       "      <td>ST0002</td>\n",
       "      <td>201420</td>\n",
       "      <td>125863</td>\n",
       "    </tr>\n",
       "  </tbody>\n",
       "</table>\n",
       "<p>265 rows × 4 columns</p>\n",
       "</div>"
      ],
      "text/plain": [
       "    REGIONID PRODUCTGROUP  YEARWEEK  VOLUME\n",
       "0        A01       ST0001    201415  810144\n",
       "1        A01       ST0002    201415  128999\n",
       "2        A01       ST0001    201418  671464\n",
       "3        A01       ST0002    201418  134467\n",
       "4        A01       ST0001    201413  470040\n",
       "..       ...          ...       ...     ...\n",
       "260      A01       ST0002    201614  148835\n",
       "261      A01       ST0001    201641  746061\n",
       "262      A01       ST0002    201412  151750\n",
       "263      A01       ST0001    201420  645626\n",
       "264      A01       ST0002    201420  125863\n",
       "\n",
       "[265 rows x 4 columns]"
      ]
     },
     "execution_count": 3,
     "metadata": {},
     "output_type": "execute_result"
    }
   ],
   "source": [
    "indata = pd.read_csv(\"../dataset/kopo_product_volume.csv\", encoding=ENCODING)\n",
    "indata"
   ]
  },
  {
   "cell_type": "markdown",
   "id": "1c1daa1f-73e8-4aae-9f33-82d3f50566b9",
   "metadata": {},
   "source": [
    "#### 2.3. 작업_데이터 변형하기_upper( )"
   ]
  },
  {
   "cell_type": "code",
   "execution_count": 4,
   "id": "0a876c21-9a8c-493d-bc72-50e8f86b13f3",
   "metadata": {
    "tags": []
   },
   "outputs": [
    {
     "name": "stdout",
     "output_type": "stream",
     "text": [
      "    REGIONID PRODUCTGROUP  YEARWEEK  VOLUME\n",
      "0        A01       ST0001    201415  810144\n",
      "1        A01       ST0002    201415  128999\n",
      "2        A01       ST0001    201418  671464\n",
      "3        A01       ST0002    201418  134467\n",
      "4        A01       ST0001    201413  470040\n",
      "..       ...          ...       ...     ...\n",
      "260      A01       ST0002    201614  148835\n",
      "261      A01       ST0001    201641  746061\n",
      "262      A01       ST0002    201412  151750\n",
      "263      A01       ST0001    201420  645626\n",
      "264      A01       ST0002    201420  125863\n",
      "\n",
      "[265 rows x 4 columns]\n"
     ]
    }
   ],
   "source": [
    "indata.columns = indata.columns.str.upper()\n",
    "print(indata)"
   ]
  },
  {
   "cell_type": "markdown",
   "id": "89f07879-a163-4542-919f-0dd78cc05e26",
   "metadata": {
    "tags": []
   },
   "source": [
    "#### 2.3. 작업_데이터 변형하기_dtypes( )"
   ]
  },
  {
   "cell_type": "code",
   "execution_count": 5,
   "id": "515a365c-2738-45d9-b459-fa70e343ee83",
   "metadata": {},
   "outputs": [
    {
     "data": {
      "text/plain": [
       "Index(['REGIONID', 'PRODUCTGROUP'], dtype='object')"
      ]
     },
     "execution_count": 5,
     "metadata": {},
     "output_type": "execute_result"
    }
   ],
   "source": [
    "indata.dtypes \n",
    "indata.columns[indata.dtypes == 'object'] "
   ]
  },
  {
   "cell_type": "code",
   "execution_count": 6,
   "id": "698f75ca-e471-4b21-b7aa-f6cffb67ea3d",
   "metadata": {},
   "outputs": [
    {
     "name": "stdout",
     "output_type": "stream",
     "text": [
      "['REGIONID', 'PRODUCTGROUP']\n",
      "2\n",
      "{'REGIONID': VARCHAR(length=100), 'PRODUCTGROUP': VARCHAR(length=100)}\n"
     ]
    }
   ],
   "source": [
    "targetColumns = list( indata.columns[indata.dtypes == 'object'] ) \n",
    "print(targetColumns)\n",
    "targetColumnsLen = len(targetColumns) \n",
    "print(targetColumnsLen)\n",
    "\n",
    "typeDict = {}\n",
    "for i in range(0, targetColumnsLen):\n",
    "    typeDict[  targetColumns[i]  ] = types.VARCHAR(VARCHARMAX)\n",
    "print(typeDict)"
   ]
  },
  {
   "cell_type": "markdown",
   "id": "5943317d-752b-4737-9539-aa11d862278c",
   "metadata": {},
   "source": [
    "#### 2.4. DB 커넥션 생성 및 to_sql name 설정"
   ]
  },
  {
   "cell_type": "code",
   "execution_count": 9,
   "id": "993ca316-aefb-4d91-9642-d28e5bcc26ef",
   "metadata": {},
   "outputs": [],
   "source": [
    "dbconnectingInfo = \"{}://{}:{}@{}:{}/{}\".format(DBPREFIX,\n",
    "                                             DBID,\n",
    "                                             DBPW,\n",
    "                                             DBIP,\n",
    "                                             DBPORT,\n",
    "                                             DBNAME)\n",
    "engine = create_engine(dbconnectingInfo)\n",
    "tablename = TARGETDATANAME.upper()"
   ]
  },
  {
   "cell_type": "markdown",
   "id": "43049fe3-acee-4a7f-814b-97f0c0e93421",
   "metadata": {},
   "source": [
    "#### 2.5. 데이터베이스에 전송"
   ]
  },
  {
   "cell_type": "code",
   "execution_count": 7,
   "id": "25be5344-4e81-4ef2-bf24-447de2835688",
   "metadata": {},
   "outputs": [
    {
     "ename": "NameError",
     "evalue": "name 'tablename' is not defined",
     "output_type": "error",
     "traceback": [
      "\u001b[1;31m---------------------------------------------------------------------------\u001b[0m",
      "\u001b[1;31mNameError\u001b[0m                                 Traceback (most recent call last)",
      "\u001b[1;32m~\\AppData\\Local\\Temp/ipykernel_9632/1213252892.py\u001b[0m in \u001b[0;36m<module>\u001b[1;34m\u001b[0m\n\u001b[1;32m----> 1\u001b[1;33m \u001b[0mindata\u001b[0m\u001b[1;33m.\u001b[0m\u001b[0mto_sql\u001b[0m\u001b[1;33m(\u001b[0m\u001b[0mname\u001b[0m\u001b[1;33m=\u001b[0m\u001b[0mtablename\u001b[0m\u001b[1;33m,\u001b[0m \u001b[0mcon\u001b[0m\u001b[1;33m=\u001b[0m\u001b[0mengine\u001b[0m\u001b[1;33m,\u001b[0m \u001b[0mindex\u001b[0m\u001b[1;33m=\u001b[0m\u001b[1;32mFalse\u001b[0m\u001b[1;33m,\u001b[0m \u001b[0mif_exists\u001b[0m\u001b[1;33m=\u001b[0m\u001b[1;34m\"replace\"\u001b[0m\u001b[1;33m,\u001b[0m \u001b[0mdtype\u001b[0m\u001b[1;33m=\u001b[0m\u001b[0mtypeDict\u001b[0m\u001b[1;33m)\u001b[0m\u001b[1;33m\u001b[0m\u001b[1;33m\u001b[0m\u001b[0m\n\u001b[0m",
      "\u001b[1;31mNameError\u001b[0m: name 'tablename' is not defined"
     ]
    }
   ],
   "source": [
    "indata.to_sql(name=tablename, con=engine, index=False, if_exists=\"replace\", dtype=typeDict)"
   ]
  },
  {
   "cell_type": "code",
   "execution_count": null,
   "id": "3d1e21af-4a9e-47e0-b5c3-ba1cede7a045",
   "metadata": {},
   "outputs": [],
   "source": []
  }
 ],
 "metadata": {
  "kernelspec": {
   "display_name": "Python 3 (ipykernel)",
   "language": "python",
   "name": "python3"
  },
  "language_info": {
   "codemirror_mode": {
    "name": "ipython",
    "version": 3
   },
   "file_extension": ".py",
   "mimetype": "text/x-python",
   "name": "python",
   "nbconvert_exporter": "python",
   "pygments_lexer": "ipython3",
   "version": "3.9.7"
  }
 },
 "nbformat": 4,
 "nbformat_minor": 5
}
